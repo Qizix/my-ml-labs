{
 "cells": [
  {
   "cell_type": "code",
   "execution_count": 64,
   "id": "7967e7e0",
   "metadata": {},
   "outputs": [],
   "source": [
    "import numpy as np\n",
    "import pandas as pd\n",
    "import tensorflow as tf\n",
    "from matplotlib import pyplot as plt"
   ]
  },
  {
   "cell_type": "code",
   "execution_count": 65,
   "id": "e5dd3ae8",
   "metadata": {},
   "outputs": [],
   "source": [
    "def parse_example(example_proto):\n",
    "    feature_description = {\n",
    "        'image': tf.io.FixedLenFeature([], tf.string),\n",
    "        'label': tf.io.FixedLenFeature([], tf.int64),\n",
    "    }\n",
    "    example = tf.io.parse_single_example(example_proto, feature_description)\n",
    "    \n",
    "    image = tf.io.parse_tensor(example['image'], out_type=tf.float32)\n",
    "    image = tf.reshape(image, [122, 122, 3])\n",
    "    \n",
    "    label = example['label']\n",
    "    return image, label\n",
    "\n",
    "def load_tfrecord(filename):\n",
    "    dataset = tf.data.TFRecordDataset(filename)\n",
    "    dataset = dataset.map(parse_example, num_parallel_calls=tf.data.AUTOTUNE)\n",
    "    return dataset\n",
    "\n",
    "train_ds = load_tfrecord('trainft.tfrecord')\n",
    "val_ds = load_tfrecord('valft.tfrecord')\n",
    "\n",
    "train_ds = train_ds.batch(32).prefetch(tf.data.AUTOTUNE)\n",
    "val_ds = val_ds.batch(32).prefetch(tf.data.AUTOTUNE)\n"
   ]
  },
  {
   "cell_type": "markdown",
   "id": "e69eec17",
   "metadata": {},
   "source": [
    "try with imagenet pretrained weights"
   ]
  },
  {
   "cell_type": "code",
   "execution_count": 66,
   "id": "622a5d89",
   "metadata": {},
   "outputs": [],
   "source": [
    "from tensorflow.keras import layers, models, regularizers\n",
    "from tensorflow.keras.optimizers import Adam\n",
    "from tensorflow.keras.optimizers.schedules import ExponentialDecay\n",
    "from tensorflow.keras.callbacks import EarlyStopping\n",
    "from tensorflow.keras.callbacks import ReduceLROnPlateau\n",
    "from tensorflow.keras.applications import EfficientNetB0, MobileNetV3Small\n",
    "from tensorflow.keras.applications.efficientnet import preprocess_input"
   ]
  },
  {
   "cell_type": "code",
   "execution_count": 67,
   "id": "f5054c6d",
   "metadata": {},
   "outputs": [
    {
     "name": "stdout",
     "output_type": "stream",
     "text": [
      "WARNING:tensorflow:`input_shape` is undefined or non-square, or `rows` is not 224. Weights for input shape (224, 224) will be loaded as the default.\n"
     ]
    }
   ],
   "source": [
    "input_shape=(122, 122, 3)\n",
    "\n",
    "base_model = MobileNetV3Small(\n",
    "    include_top=False,\n",
    "    weights=\"imagenet\",\n",
    "    input_shape=input_shape,\n",
    ")\n",
    "base_model.trainable = False"
   ]
  },
  {
   "cell_type": "code",
   "execution_count": 68,
   "id": "48f1976a",
   "metadata": {},
   "outputs": [],
   "source": [
    "inputs = tf.keras.Input(shape=input_shape)\n",
    "x = tf.keras.layers.Lambda(preprocess_input)(inputs)\n",
    "x = base_model(x, training=False)\n",
    "x = tf.keras.layers.GlobalAveragePooling2D()(x)\n",
    "x = tf.keras.layers.BatchNormalization()(x)\n",
    "x = tf.keras.layers.Dense(512, activation='relu')(x)\n",
    "x = tf.keras.layers.Dropout(0.3)(x)\n",
    "x = tf.keras.layers.BatchNormalization()(x)\n",
    "x = tf.keras.layers.Dense(256, activation='relu')(x)\n",
    "x = tf.keras.layers.Dropout(0.5)(x)\n",
    "outputs = tf.keras.layers.Dense(8, activation='softmax')(x)\n",
    "\n",
    "model = tf.keras.Model(inputs, outputs)"
   ]
  },
  {
   "cell_type": "code",
   "execution_count": 69,
   "id": "dd50bf0d",
   "metadata": {},
   "outputs": [
    {
     "name": "stdout",
     "output_type": "stream",
     "text": [
      "Epoch 1/10\n",
      "232/232 [==============================] - 7s 17ms/step - loss: 2.2387 - accuracy: 0.2579 - val_loss: 1.6660 - val_accuracy: 0.3785 - lr: 0.0010\n",
      "Epoch 2/10\n",
      "232/232 [==============================] - 3s 13ms/step - loss: 1.7501 - accuracy: 0.3577 - val_loss: 1.5960 - val_accuracy: 0.4142 - lr: 0.0010\n",
      "Epoch 3/10\n",
      "232/232 [==============================] - 3s 13ms/step - loss: 1.5284 - accuracy: 0.4339 - val_loss: 1.5785 - val_accuracy: 0.4174 - lr: 0.0010\n",
      "Epoch 4/10\n",
      "232/232 [==============================] - 3s 13ms/step - loss: 1.4106 - accuracy: 0.4792 - val_loss: 1.5775 - val_accuracy: 0.4207 - lr: 0.0010\n",
      "Epoch 5/10\n",
      "232/232 [==============================] - 3s 13ms/step - loss: 1.3017 - accuracy: 0.5190 - val_loss: 1.6037 - val_accuracy: 0.4331 - lr: 0.0010\n",
      "Epoch 6/10\n",
      "232/232 [==============================] - 3s 13ms/step - loss: 1.1877 - accuracy: 0.5643 - val_loss: 1.6663 - val_accuracy: 0.4185 - lr: 0.0010\n",
      "Epoch 7/10\n",
      "232/232 [==============================] - 3s 14ms/step - loss: 1.0788 - accuracy: 0.6001 - val_loss: 1.7103 - val_accuracy: 0.4207 - lr: 0.0010\n",
      "Epoch 8/10\n",
      "232/232 [==============================] - 3s 14ms/step - loss: 0.8908 - accuracy: 0.6759 - val_loss: 1.7579 - val_accuracy: 0.4234 - lr: 5.0000e-04\n",
      "Epoch 9/10\n",
      "232/232 [==============================] - 3s 14ms/step - loss: 0.7736 - accuracy: 0.7239 - val_loss: 1.7983 - val_accuracy: 0.4239 - lr: 5.0000e-04\n"
     ]
    }
   ],
   "source": [
    "early_stop = EarlyStopping(monitor='val_loss', patience=5, restore_best_weights=True)\n",
    "lr_reduction = ReduceLROnPlateau(monitor='val_loss', patience=3, factor=0.5, min_lr=1e-7)\n",
    "\n",
    "model.compile(\n",
    "    optimizer=Adam(learning_rate=1e-3),\n",
    "    loss='sparse_categorical_crossentropy',\n",
    "    metrics=['accuracy']\n",
    ")\n",
    "\n",
    "history = model.fit(train_ds, \n",
    "                    validation_data=val_ds, \n",
    "                    epochs=10, \n",
    "                    callbacks=[early_stop, lr_reduction])"
   ]
  },
  {
   "cell_type": "code",
   "execution_count": 70,
   "id": "5f94f682",
   "metadata": {},
   "outputs": [
    {
     "name": "stdout",
     "output_type": "stream",
     "text": [
      "Epoch 1/10\n",
      "232/232 [==============================] - 11s 31ms/step - loss: 1.2107 - accuracy: 0.5617 - val_loss: 1.5341 - val_accuracy: 0.4348 - lr: 1.0000e-05\n",
      "Epoch 2/10\n",
      "232/232 [==============================] - 6s 27ms/step - loss: 1.1718 - accuracy: 0.5792 - val_loss: 1.5225 - val_accuracy: 0.4407 - lr: 1.0000e-05\n",
      "Epoch 3/10\n",
      "232/232 [==============================] - 6s 27ms/step - loss: 1.1417 - accuracy: 0.5813 - val_loss: 1.5164 - val_accuracy: 0.4450 - lr: 1.0000e-05\n",
      "Epoch 4/10\n",
      "232/232 [==============================] - 6s 27ms/step - loss: 1.1120 - accuracy: 0.5989 - val_loss: 1.5090 - val_accuracy: 0.4461 - lr: 1.0000e-05\n",
      "Epoch 5/10\n",
      "232/232 [==============================] - 6s 27ms/step - loss: 1.0874 - accuracy: 0.6074 - val_loss: 1.5023 - val_accuracy: 0.4537 - lr: 1.0000e-05\n",
      "Epoch 6/10\n",
      "232/232 [==============================] - 6s 28ms/step - loss: 1.0674 - accuracy: 0.6147 - val_loss: 1.5000 - val_accuracy: 0.4575 - lr: 1.0000e-05\n",
      "Epoch 7/10\n",
      "232/232 [==============================] - 6s 28ms/step - loss: 1.0439 - accuracy: 0.6278 - val_loss: 1.4947 - val_accuracy: 0.4515 - lr: 1.0000e-05\n",
      "Epoch 8/10\n",
      "232/232 [==============================] - 7s 28ms/step - loss: 1.0169 - accuracy: 0.6397 - val_loss: 1.4929 - val_accuracy: 0.4548 - lr: 1.0000e-05\n",
      "Epoch 9/10\n",
      "232/232 [==============================] - 6s 27ms/step - loss: 1.0152 - accuracy: 0.6379 - val_loss: 1.4882 - val_accuracy: 0.4548 - lr: 1.0000e-05\n",
      "Epoch 10/10\n",
      "232/232 [==============================] - 7s 28ms/step - loss: 0.9859 - accuracy: 0.6541 - val_loss: 1.4886 - val_accuracy: 0.4548 - lr: 1.0000e-05\n"
     ]
    }
   ],
   "source": [
    "model.trainable = True\n",
    "for layer in model.layers[:-20]:\n",
    "    layer.trainable = False\n",
    "\n",
    "\n",
    "model.compile(\n",
    "    optimizer=Adam(learning_rate=1e-5),\n",
    "    loss='sparse_categorical_crossentropy',\n",
    "    metrics=['accuracy']\n",
    ")\n",
    "\n",
    "history2 = model.fit(train_ds, \n",
    "                    validation_data=val_ds, \n",
    "                    epochs=10, \n",
    "                    callbacks=[early_stop, lr_reduction])"
   ]
  },
  {
   "cell_type": "code",
   "execution_count": 71,
   "id": "17a90d9b",
   "metadata": {},
   "outputs": [
    {
     "data": {
      "image/png": "[encoded data removed]",
      "text/plain": [
       "<Figure size 1200x500 with 2 Axes>"
      ]
     },
     "metadata": {},
     "output_type": "display_data"
    }
   ],
   "source": [
    "plt.figure(figsize=(12, 5))\n",
    "\n",
    "plt.subplot(1, 2, 1)\n",
    "plt.plot(history2.history['accuracy'])\n",
    "plt.plot(history2.history['val_accuracy'])\n",
    "plt.title('Model Accuracy')\n",
    "plt.ylabel('Accuracy')\n",
    "plt.xlabel('Epoch')\n",
    "plt.legend(['Train', 'Validation'], loc='upper left')\n",
    "\n",
    "plt.subplot(1, 2, 2)\n",
    "plt.plot(history2.history['loss'])\n",
    "plt.plot(history2.history['val_loss'])\n",
    "plt.title('Model Loss')\n",
    "plt.ylabel('Loss')\n",
    "plt.xlabel('Epoch')\n",
    "plt.legend(['Train', 'Validation'], loc='upper left')\n",
    "\n",
    "plt.tight_layout()\n",
    "plt.show()"
   ]
  },
  {
   "cell_type": "code",
   "execution_count": 72,
   "id": "b349289d",
   "metadata": {},
   "outputs": [
    {
     "name": "stdout",
     "output_type": "stream",
     "text": [
      "[0, 1, 2, 3, 4, 5, 6, 7, 8, 9, 10, 11, 12, 13, 14, 15, 16, 17, 18, 19, 20, 21, 22, 23, 24, 25, 26, 27, 28, 29, 30, 31, 32, 33, 34, 35, 36, 37, 38, 39, 40, 41, 42, 43, 44, 45, 46, 47, 48, 49, 50, 51, 52, 53, 54, 55, 56, 57, 58, 59, 60, 61, 62, 63, 64, 65, 66, 67, 68, 69, 70, 71, 72, 73, 74, 75, 76, 77, 78, 79]\n"
     ]
    }
   ],
   "source": [
    "k = []\n",
    "for i in range(100):\n",
    "    k.append(i)\n",
    "    \n",
    "print(k[:-20])"
   ]
  },
  {
   "cell_type": "code",
   "execution_count": 73,
   "id": "c46a2700",
   "metadata": {},
   "outputs": [],
   "source": [
    "model.save(\"./models/ft0.54-1.54.keras\")"
   ]
  }
 ],
 "metadata": {
  "kernelspec": {
   "display_name": "Python 3",
   "language": "python",
   "name": "python3"
  },
  "language_info": {
   "codemirror_mode": {
    "name": "ipython",
    "version": 3
   },
   "file_extension": ".py",
   "mimetype": "text/x-python",
   "name": "python",
   "nbconvert_exporter": "python",
   "pygments_lexer": "ipython3",
   "version": "3.10.0"
  }
 },
 "nbformat": 4,
 "nbformat_minor": 5
}

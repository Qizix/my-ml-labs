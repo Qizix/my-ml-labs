{
 "cells": [
  {
   "cell_type": "code",
   "execution_count": 30,
   "metadata": {},
   "outputs": [],
   "source": [
    "import numpy as np\n",
    "import pandas as pd\n",
    "\n",
    "import matplotlib.pyplot as plt\n",
    "import seaborn as sns; sns.set(); sns.set_style('dark')\n",
    "\n",
    "import os\n",
    "import datetime\n",
    "\n",
    "from sklearn.model_selection import train_test_split\n",
    "import tensorflow as tf"
   ]
  },
  {
   "cell_type": "code",
   "execution_count": 31,
   "metadata": {},
   "outputs": [],
   "source": [
    "from datetime import date\n",
    "\n",
    "MONTHS = [\"January\", \"February\", \"March\", \"April\", \"May\", \"June\",\n",
    "          \"July\", \"August\", \"September\", \"October\", \"November\", \"December\"]\n",
    "\n",
    "def random_dates(n_dates):\n",
    "    min_date = date(1000, 1, 1).toordinal()\n",
    "    max_date = date(9999, 12, 31).toordinal()\n",
    "\n",
    "    ordinals = np.random.randint(max_date - min_date, size=n_dates) + min_date\n",
    "    dates = [date.fromordinal(ordinal) for ordinal in ordinals]\n",
    "\n",
    "    x = [MONTHS[dt.month - 1] + \" \" + dt.strftime(\"%d, %Y\") for dt in dates]\n",
    "    y = [dt.isoformat() for dt in dates]\n",
    "    return x, y"
   ]
  },
  {
   "cell_type": "code",
   "execution_count": 32,
   "metadata": {},
   "outputs": [],
   "source": [
    "INPUT_CHARS = \"\".join(sorted(set(\"\".join(MONTHS) + \"0123456789, \")))\n",
    "OUTPUT_CHARS = \"\".join(sorted(set(\"0123456789-\")))\n",
    "def date_str_to_ids(date_str, chars=INPUT_CHARS):\n",
    "    return [chars.index(c) for c in date_str]"
   ]
  },
  {
   "cell_type": "code",
   "execution_count": 33,
   "metadata": {},
   "outputs": [
    {
     "data": {
      "text/plain": [
       "[3, 5, 5, 1, 0, 1, 2, 0, 1, 10]"
      ]
     },
     "execution_count": 33,
     "metadata": {},
     "output_type": "execute_result"
    }
   ],
   "source": [
    "date_str_to_ids(y[0], OUTPUT_CHARS)\n"
   ]
  },
  {
   "cell_type": "code",
   "execution_count": 34,
   "metadata": {},
   "outputs": [],
   "source": [
    "def prepare_date_strs(date_strs, chars=INPUT_CHARS):\n",
    "    X_ids = [date_str_to_ids(dt, chars) for dt in date_strs]\n",
    "    X = tf.ragged.constant(X_ids, ragged_rank=1)\n",
    "    return (X + 1).to_tensor() # using 0 as the padding token ID\n",
    "\n",
    "def create_dataset(n_dates):\n",
    "    x, y = random_dates(n_dates)\n",
    "    return prepare_date_strs(x, INPUT_CHARS), prepare_date_strs(y, OUTPUT_CHARS)\n",
    "\n",
    "np.random.seed(42)\n",
    "\n",
    "X_train, Y_train = create_dataset(10000)\n",
    "X_valid, Y_valid = create_dataset(2000)\n",
    "X_test, Y_test = create_dataset(2000)\n"
   ]
  },
  {
   "cell_type": "code",
   "execution_count": 35,
   "metadata": {},
   "outputs": [
    {
     "data": {
      "text/plain": [
       "(TensorShape([10000, 18]),\n",
       " TensorShape([10000, 10]),\n",
       " TensorShape([2000, 18]),\n",
       " TensorShape([2000, 10]),\n",
       " TensorShape([2000, 18]),\n",
       " TensorShape([2000, 10]))"
      ]
     },
     "execution_count": 35,
     "metadata": {},
     "output_type": "execute_result"
    }
   ],
   "source": [
    "X_train.shape, Y_train.shape, X_valid.shape, Y_valid.shape, X_test.shape, Y_test.shape"
   ]
  },
  {
   "cell_type": "code",
   "execution_count": 36,
   "metadata": {},
   "outputs": [
    {
     "data": {
      "text/plain": [
       "<tf.Tensor: shape=(10000, 10), dtype=int32, numpy=\n",
       "array([[ 9,  2,  9, ...,  1,  4,  2],\n",
       "       [10,  7,  9, ...,  1,  3,  7],\n",
       "       [ 9,  3,  2, ...,  1,  3,  3],\n",
       "       ...,\n",
       "       [11,  9,  8, ...,  1,  5,  2],\n",
       "       [ 3,  3,  4, ...,  1,  4,  9],\n",
       "       [ 9, 10,  5, ...,  1,  4, 11]])>"
      ]
     },
     "execution_count": 36,
     "metadata": {},
     "output_type": "execute_result"
    }
   ],
   "source": [
    "Y_train"
   ]
  },
  {
   "cell_type": "code",
   "execution_count": 45,
   "metadata": {},
   "outputs": [
    {
     "name": "stdout",
     "output_type": "stream",
     "text": [
      "Model: \"sequential_41\"\n",
      "_________________________________________________________________\n",
      " Layer (type)                Output Shape              Param #   \n",
      "=================================================================\n",
      " sequential_39 (Sequential)  (None, 128)               63456     \n",
      "                                                                 \n",
      " repeat_vector_5 (RepeatVect  (None, 10, 128)          0         \n",
      " or)                                                             \n",
      "                                                                 \n",
      " sequential_40 (Sequential)  (None, 10, 12)            100620    \n",
      "                                                                 \n",
      "=================================================================\n",
      "Total params: 164,076\n",
      "Trainable params: 164,076\n",
      "Non-trainable params: 0\n",
      "_________________________________________________________________\n",
      "Model output shape: (None, 10, 12)\n",
      "Target labels shape: (10000, 10)\n"
     ]
    }
   ],
   "source": [
    "max_output_length = Y_train.shape[1]\n",
    "embedding_size = 32\n",
    "\n",
    "encoder = tf.keras.Sequential([\n",
    "    tf.keras.layers.Embedding(input_dim=len(INPUT_CHARS) + 1,\n",
    "                           output_dim=embedding_size,\n",
    "                           input_shape=[None]),\n",
    "    tf.keras.layers.GRU(128)\n",
    "])\n",
    "decoder = tf.keras.Sequential([\n",
    "    tf.keras.layers.GRU(128, return_sequences=True),\n",
    "    tf.keras.layers.Dense(len(OUTPUT_CHARS) + 1, activation='softmax')\n",
    "])\n",
    "\n",
    "model = tf.keras.Sequential([\n",
    "    encoder,\n",
    "    tf.keras.layers.RepeatVector(max_output_length),\n",
    "    decoder\n",
    "])\n",
    "\n",
    "model.compile(optimizer='adam', loss='sparse_categorical_crossentropy', metrics=['accuracy'])\n",
    "model.summary()\n",
    "\n",
    "print(\"Model output shape:\", model.output.shape)\n",
    "print(\"Target labels shape:\", Y_train.shape)\n"
   ]
  },
  {
   "cell_type": "code",
   "execution_count": 46,
   "metadata": {},
   "outputs": [
    {
     "name": "stdout",
     "output_type": "stream",
     "text": [
      "Epoch 1/10\n",
      "313/313 [==============================] - 10s 12ms/step - loss: 1.6845 - accuracy: 0.3884 - val_loss: 1.2422 - val_accuracy: 0.5331\n",
      "Epoch 2/10\n",
      "313/313 [==============================] - 3s 10ms/step - loss: 1.0477 - accuracy: 0.6127 - val_loss: 0.8768 - val_accuracy: 0.6737\n",
      "Epoch 3/10\n",
      "313/313 [==============================] - 3s 10ms/step - loss: 0.7200 - accuracy: 0.7226 - val_loss: 0.5689 - val_accuracy: 0.7710\n",
      "Epoch 4/10\n",
      "313/313 [==============================] - 3s 11ms/step - loss: 0.4407 - accuracy: 0.8254 - val_loss: 0.3379 - val_accuracy: 0.8672\n",
      "Epoch 5/10\n",
      "313/313 [==============================] - 3s 10ms/step - loss: 0.2860 - accuracy: 0.8961 - val_loss: 0.2227 - val_accuracy: 0.9252\n",
      "Epoch 6/10\n",
      "313/313 [==============================] - 3s 10ms/step - loss: 0.1608 - accuracy: 0.9535 - val_loss: 0.1281 - val_accuracy: 0.9660\n",
      "Epoch 7/10\n",
      "313/313 [==============================] - 3s 10ms/step - loss: 0.0812 - accuracy: 0.9836 - val_loss: 0.0506 - val_accuracy: 0.9930\n",
      "Epoch 8/10\n",
      "313/313 [==============================] - 3s 10ms/step - loss: 0.0349 - accuracy: 0.9966 - val_loss: 0.0255 - val_accuracy: 0.9986\n",
      "Epoch 9/10\n",
      "313/313 [==============================] - 3s 10ms/step - loss: 0.0178 - accuracy: 0.9995 - val_loss: 0.0134 - val_accuracy: 0.9997\n",
      "Epoch 10/10\n",
      "313/313 [==============================] - 3s 10ms/step - loss: 0.0094 - accuracy: 1.0000 - val_loss: 0.0081 - val_accuracy: 0.9999\n"
     ]
    }
   ],
   "source": [
    "history = model.fit(X_train, Y_train, epochs=10, validation_data=(X_valid, Y_valid))"
   ]
  },
  {
   "cell_type": "code",
   "execution_count": 47,
   "metadata": {},
   "outputs": [
    {
     "name": "stdout",
     "output_type": "stream",
     "text": [
      "63/63 [==============================] - 1s 7ms/step - loss: 0.0079 - accuracy: 0.9999\n"
     ]
    },
    {
     "data": {
      "text/plain": [
       "[0.007861150428652763, 0.9999499917030334]"
      ]
     },
     "execution_count": 47,
     "metadata": {},
     "output_type": "execute_result"
    }
   ],
   "source": [
    "model.evaluate(X_test, Y_test)"
   ]
  },
  {
   "cell_type": "code",
   "execution_count": 76,
   "metadata": {},
   "outputs": [],
   "source": [
    "def ids_to_date_strs(ids, chars=OUTPUT_CHARS):\n",
    "    return [\"\".join([(\"?\" + chars)[index] for index in sequence])\n",
    "            for sequence in ids]"
   ]
  },
  {
   "cell_type": "code",
   "execution_count": null,
   "metadata": {},
   "outputs": [
    {
     "name": "stdout",
     "output_type": "stream",
     "text": [
      "1/1 [==============================] - 0s 24ms/step\n",
      "2009-12-17\n",
      "1789-08-14\n"
     ]
    }
   ],
   "source": [
    "X_new = prepare_date_strs([\"September 17, 2009\", \"July 14, 1789\"])\n",
    "\n",
    "ids = model.predict(X_new).argmax(axis=-1)\n",
    "for date_str in ids_to_date_strs(ids):\n",
    "    print(date_str)"
   ]
  },
  {
   "cell_type": "code",
   "execution_count": 65,
   "metadata": {},
   "outputs": [
    {
     "data": {
      "text/plain": [
       "array([[4, 2, 4, 2, 1, 3, 4, 1, 5, 3]], dtype=int64)"
      ]
     },
     "execution_count": 65,
     "metadata": {},
     "output_type": "execute_result"
    }
   ],
   "source": []
  },
  {
   "cell_type": "code",
   "execution_count": null,
   "metadata": {},
   "outputs": [],
   "source": []
  }
 ],
 "metadata": {
  "kernelspec": {
   "display_name": "tf",
   "language": "python",
   "name": "python3"
  },
  "language_info": {
   "codemirror_mode": {
    "name": "ipython",
    "version": 3
   },
   "file_extension": ".py",
   "mimetype": "text/x-python",
   "name": "python",
   "nbconvert_exporter": "python",
   "pygments_lexer": "ipython3",
   "version": "3.9.21"
  }
 },
 "nbformat": 4,
 "nbformat_minor": 2
}

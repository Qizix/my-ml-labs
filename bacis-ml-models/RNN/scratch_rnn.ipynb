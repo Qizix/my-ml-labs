{
 "cells": [
  {
   "cell_type": "code",
   "execution_count": 5,
   "metadata": {},
   "outputs": [],
   "source": [
    "import numpy as np\n",
    "import pandas as pd\n",
    "from matplotlib import pyplot as plt"
   ]
  },
  {
   "cell_type": "code",
   "execution_count": 10,
   "metadata": {},
   "outputs": [],
   "source": [
    "import numpy as np\n",
    "\n",
    "def create_dataset(n, m):\n",
    "    X = np.random.randint(0, 2, size=(m, n))\n",
    "    y = np.sum(X, axis=1) % 2\n",
    "    return X, y\n",
    "\n",
    "n = 4 \n",
    "m = 16\n",
    "\n",
    "X, y = create_dataset(n, m)"
   ]
  },
  {
   "cell_type": "code",
   "execution_count": 29,
   "metadata": {},
   "outputs": [],
   "source": [
    "class RNN():\n",
    "    def __init__(self):\n",
    "        self.input_dim = 1\n",
    "        self.hidden_dim = 1\n",
    "        self.output_dim = 2\n",
    "        self.W_hi = np.random.randn(self.input_dim, self.hidden_dim)\n",
    "        self.W_hh = np.random.randn(self.hidden_dim, self.hidden_dim)\n",
    "        self.b_h = np.random.randn(self.hidden_dim, 1)\n",
    "        self.W_hy = np.random.randn(self.output_dim, self.hidden_dim)\n",
    "        self.b_y = np.random.randn(self.output_dim, 1)\n",
    "        self.learning_rate = 0.01\n",
    "        print(self.w_hi)\n",
    "\n",
    "    def fit(self, X, y, epoch = 100):\n",
    "        for _ in epoch:\n",
    "            self.h_0 = np.zeros((self.hidden_dim, 1))\n",
    "            \n",
    "            for t, x_t in enumerate(self.X):\n",
    "                self.h_t = np.tanh(self.W_xh * x_t + self.W_hh * self.h_(t-1) + self.b_h)\n",
    "                "
   ]
  },
  {
   "cell_type": "code",
   "execution_count": 58,
   "metadata": {},
   "outputs": [
    {
     "name": "stdout",
     "output_type": "stream",
     "text": [
      "[-1.26948466]\n"
     ]
    }
   ],
   "source": [
    "model = RNN()"
   ]
  },
  {
   "cell_type": "code",
   "execution_count": null,
   "metadata": {},
   "outputs": [],
   "source": []
  }
 ],
 "metadata": {
  "kernelspec": {
   "display_name": "tf",
   "language": "python",
   "name": "python3"
  },
  "language_info": {
   "codemirror_mode": {
    "name": "ipython",
    "version": 3
   },
   "file_extension": ".py",
   "mimetype": "text/x-python",
   "name": "python",
   "nbconvert_exporter": "python",
   "pygments_lexer": "ipython3",
   "version": "3.9.21"
  }
 },
 "nbformat": 4,
 "nbformat_minor": 2
}
